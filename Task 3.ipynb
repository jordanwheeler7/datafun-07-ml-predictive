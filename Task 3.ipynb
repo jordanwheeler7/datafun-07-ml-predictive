{
 "cells": [
  {
   "cell_type": "markdown",
   "id": "7d54c6dc-0c35-4f55-811e-dbc817a5579c",
   "metadata": {},
   "source": [
    "# Module 7- Task 3\n",
    "## Jordan Wheeler\n",
    "## 26 February 2023"
   ]
  },
  {
   "cell_type": "code",
   "execution_count": 5,
   "id": "590c2f4f-f8c4-4702-bcde-acb7ed069a21",
   "metadata": {},
   "outputs": [],
   "source": [
    "# This task walks through time series and simple linear regression"
   ]
  },
  {
   "cell_type": "code",
   "execution_count": 6,
   "id": "a0c9bd13-5b86-459e-a4cf-8597c67228cd",
   "metadata": {},
   "outputs": [],
   "source": [
    "# Import MatPlotlib\n",
    "\n",
    "%matplotlib inline\n",
    "\n",
    "c = lambda f: 5 / 9 * (f - 32)"
   ]
  },
  {
   "cell_type": "code",
   "execution_count": 7,
   "id": "0b1344ee-8a85-4de8-bdbc-aaa001d5c908",
   "metadata": {},
   "outputs": [],
   "source": [
    "temps = [(f, c(f)) for f in range (0, 101, 10)]"
   ]
  },
  {
   "cell_type": "code",
   "execution_count": 8,
   "id": "8cc1a692-72e0-44a2-bbec-cda8e46d1788",
   "metadata": {},
   "outputs": [],
   "source": [
    "# Import Pandas\n",
    "\n",
    "import pandas as pd"
   ]
  },
  {
   "cell_type": "code",
   "execution_count": 11,
   "id": "e8d56e67-bee2-4559-8fba-06ee7290b27a",
   "metadata": {},
   "outputs": [],
   "source": [
    "# Build DataFrame\n",
    "\n",
    "temps_df = pd.DataFrame(temps, columns=['Fahrenheit', 'Celsius'])"
   ]
  },
  {
   "cell_type": "markdown",
   "id": "311b5e9a-9ff8-4f70-a377-93a9b1f4aa08",
   "metadata": {},
   "source": [
    "## Plot Method"
   ]
  },
  {
   "cell_type": "code",
   "execution_count": 12,
   "id": "1369fdbf-4da1-4542-89dc-12cf703257c6",
   "metadata": {},
   "outputs": [
    {
     "data": {
      "image/png": "[encoded data removed]",
      "text/plain": [
       "<Figure size 640x480 with 1 Axes>"
      ]
     },
     "metadata": {},
     "output_type": "display_data"
    }
   ],
   "source": [
    "# Build Axes\n",
    "\n",
    "axes = temps_df.plot(x='Fahrenheit', y='Celsius', style='.-')\n",
    "\n",
    "# Y Label\n",
    "\n",
    "y_label = axes.set_ylabel('Celsius')"
   ]
  },
  {
   "cell_type": "markdown",
   "id": "de3ef213-23f6-496d-8b32-86cea2ac72f0",
   "metadata": {},
   "source": [
    "## Loading the Average High Temperatures into a DataFrame"
   ]
  },
  {
   "cell_type": "code",
   "execution_count": 13,
   "id": "13163d89-db10-4b80-9b0a-b3cd51e928af",
   "metadata": {},
   "outputs": [],
   "source": [
    "# Load Data\n",
    "\n",
    "nyc = pd.read_csv('ave_hi_nyc_jan_1895-2018.csv')"
   ]
  },
  {
   "cell_type": "markdown",
   "id": "24b1b598-5de6-48ea-b62f-3384ff9484d5",
   "metadata": {},
   "source": [
    "## View Data"
   ]
  },
  {
   "cell_type": "code",
   "execution_count": 15,
   "id": "72530896-5930-460f-830c-692b1c364fa7",
   "metadata": {},
   "outputs": [
    {
     "data": {
      "text/html": [
       "<div>\n",
       "<style scoped>\n",
       "    .dataframe tbody tr th:only-of-type {\n",
       "        vertical-align: middle;\n",
       "    }\n",
       "\n",
       "    .dataframe tbody tr th {\n",
       "        vertical-align: top;\n",
       "    }\n",
       "\n",
       "    .dataframe thead th {\n",
       "        text-align: right;\n",
       "    }\n",
       "</style>\n",
       "<table border=\"1\" class=\"dataframe\">\n",
       "  <thead>\n",
       "    <tr style=\"text-align: right;\">\n",
       "      <th></th>\n",
       "      <th>Date</th>\n",
       "      <th>Value</th>\n",
       "      <th>Anomaly</th>\n",
       "    </tr>\n",
       "  </thead>\n",
       "  <tbody>\n",
       "    <tr>\n",
       "      <th>0</th>\n",
       "      <td>189501</td>\n",
       "      <td>34.2</td>\n",
       "      <td>-3.2</td>\n",
       "    </tr>\n",
       "    <tr>\n",
       "      <th>1</th>\n",
       "      <td>189601</td>\n",
       "      <td>34.7</td>\n",
       "      <td>-2.7</td>\n",
       "    </tr>\n",
       "    <tr>\n",
       "      <th>2</th>\n",
       "      <td>189701</td>\n",
       "      <td>35.5</td>\n",
       "      <td>-1.9</td>\n",
       "    </tr>\n",
       "    <tr>\n",
       "      <th>3</th>\n",
       "      <td>189801</td>\n",
       "      <td>39.6</td>\n",
       "      <td>2.2</td>\n",
       "    </tr>\n",
       "    <tr>\n",
       "      <th>4</th>\n",
       "      <td>189901</td>\n",
       "      <td>36.4</td>\n",
       "      <td>-1.0</td>\n",
       "    </tr>\n",
       "  </tbody>\n",
       "</table>\n",
       "</div>"
      ],
      "text/plain": [
       "     Date  Value  Anomaly\n",
       "0  189501   34.2     -3.2\n",
       "1  189601   34.7     -2.7\n",
       "2  189701   35.5     -1.9\n",
       "3  189801   39.6      2.2\n",
       "4  189901   36.4     -1.0"
      ]
     },
     "execution_count": 15,
     "metadata": {},
     "output_type": "execute_result"
    }
   ],
   "source": [
    "# View Head\n",
    "\n",
    "nyc.head()"
   ]
  },
  {
   "cell_type": "code",
   "execution_count": 16,
   "id": "eee25d25-7669-44c5-bc1e-43642ee8d9ee",
   "metadata": {},
   "outputs": [
    {
     "data": {
      "text/html": [
       "<div>\n",
       "<style scoped>\n",
       "    .dataframe tbody tr th:only-of-type {\n",
       "        vertical-align: middle;\n",
       "    }\n",
       "\n",
       "    .dataframe tbody tr th {\n",
       "        vertical-align: top;\n",
       "    }\n",
       "\n",
       "    .dataframe thead th {\n",
       "        text-align: right;\n",
       "    }\n",
       "</style>\n",
       "<table border=\"1\" class=\"dataframe\">\n",
       "  <thead>\n",
       "    <tr style=\"text-align: right;\">\n",
       "      <th></th>\n",
       "      <th>Date</th>\n",
       "      <th>Value</th>\n",
       "      <th>Anomaly</th>\n",
       "    </tr>\n",
       "  </thead>\n",
       "  <tbody>\n",
       "    <tr>\n",
       "      <th>119</th>\n",
       "      <td>201401</td>\n",
       "      <td>35.5</td>\n",
       "      <td>-1.9</td>\n",
       "    </tr>\n",
       "    <tr>\n",
       "      <th>120</th>\n",
       "      <td>201501</td>\n",
       "      <td>36.1</td>\n",
       "      <td>-1.3</td>\n",
       "    </tr>\n",
       "    <tr>\n",
       "      <th>121</th>\n",
       "      <td>201601</td>\n",
       "      <td>40.8</td>\n",
       "      <td>3.4</td>\n",
       "    </tr>\n",
       "    <tr>\n",
       "      <th>122</th>\n",
       "      <td>201701</td>\n",
       "      <td>42.8</td>\n",
       "      <td>5.4</td>\n",
       "    </tr>\n",
       "    <tr>\n",
       "      <th>123</th>\n",
       "      <td>201801</td>\n",
       "      <td>38.7</td>\n",
       "      <td>1.3</td>\n",
       "    </tr>\n",
       "  </tbody>\n",
       "</table>\n",
       "</div>"
      ],
      "text/plain": [
       "       Date  Value  Anomaly\n",
       "119  201401   35.5     -1.9\n",
       "120  201501   36.1     -1.3\n",
       "121  201601   40.8      3.4\n",
       "122  201701   42.8      5.4\n",
       "123  201801   38.7      1.3"
      ]
     },
     "execution_count": 16,
     "metadata": {},
     "output_type": "execute_result"
    }
   ],
   "source": [
    "# View Tail\n",
    "\n",
    "nyc.tail()"
   ]
  },
  {
   "cell_type": "markdown",
   "id": "a1495ebf-ea60-4b1c-9888-fb6aba25ee81",
   "metadata": {},
   "source": [
    "## Clean Data"
   ]
  },
  {
   "cell_type": "code",
   "execution_count": 17,
   "id": "0e9eab02-c54a-44d4-82ef-13bdbbfbfdcf",
   "metadata": {},
   "outputs": [],
   "source": [
    "# Rename Columns\n",
    "\n",
    "nyc.columns = ['Date', 'Temperature', 'Anomaly']"
   ]
  },
  {
   "cell_type": "code",
   "execution_count": 18,
   "id": "64ba4a3b-8299-4fa7-9775-7e739c09e063",
   "metadata": {},
   "outputs": [
    {
     "data": {
      "text/html": [
       "<div>\n",
       "<style scoped>\n",
       "    .dataframe tbody tr th:only-of-type {\n",
       "        vertical-align: middle;\n",
       "    }\n",
       "\n",
       "    .dataframe tbody tr th {\n",
       "        vertical-align: top;\n",
       "    }\n",
       "\n",
       "    .dataframe thead th {\n",
       "        text-align: right;\n",
       "    }\n",
       "</style>\n",
       "<table border=\"1\" class=\"dataframe\">\n",
       "  <thead>\n",
       "    <tr style=\"text-align: right;\">\n",
       "      <th></th>\n",
       "      <th>Date</th>\n",
       "      <th>Temperature</th>\n",
       "      <th>Anomaly</th>\n",
       "    </tr>\n",
       "  </thead>\n",
       "  <tbody>\n",
       "    <tr>\n",
       "      <th>0</th>\n",
       "      <td>189501</td>\n",
       "      <td>34.2</td>\n",
       "      <td>-3.2</td>\n",
       "    </tr>\n",
       "    <tr>\n",
       "      <th>1</th>\n",
       "      <td>189601</td>\n",
       "      <td>34.7</td>\n",
       "      <td>-2.7</td>\n",
       "    </tr>\n",
       "    <tr>\n",
       "      <th>2</th>\n",
       "      <td>189701</td>\n",
       "      <td>35.5</td>\n",
       "      <td>-1.9</td>\n",
       "    </tr>\n",
       "  </tbody>\n",
       "</table>\n",
       "</div>"
      ],
      "text/plain": [
       "     Date  Temperature  Anomaly\n",
       "0  189501         34.2     -3.2\n",
       "1  189601         34.7     -2.7\n",
       "2  189701         35.5     -1.9"
      ]
     },
     "execution_count": 18,
     "metadata": {},
     "output_type": "execute_result"
    }
   ],
   "source": [
    "# View Top 3 Lines with renamed columns\n",
    "\n",
    "nyc.head(3)"
   ]
  },
  {
   "cell_type": "code",
   "execution_count": 19,
   "id": "05bf4ae0-6399-4ed8-aaa5-3bda69890f52",
   "metadata": {},
   "outputs": [
    {
     "data": {
      "text/plain": [
       "dtype('int64')"
      ]
     },
     "execution_count": 19,
     "metadata": {},
     "output_type": "execute_result"
    }
   ],
   "source": [
    "# Check column's type\n",
    "\n",
    "nyc.Date.dtype"
   ]
  },
  {
   "cell_type": "code",
   "execution_count": 20,
   "id": "7ddca2dd-6a8e-4f54-a7b1-5c9ddf691c11",
   "metadata": {},
   "outputs": [],
   "source": [
    "# Leave just the year since every value is January. Use floordiv for integer division on every element\n",
    "\n",
    "nyc.Date = nyc.Date.floordiv(100)"
   ]
  },
  {
   "cell_type": "code",
   "execution_count": 21,
   "id": "eae27b7e-b726-4dd4-8f5c-51b65487a11a",
   "metadata": {},
   "outputs": [
    {
     "data": {
      "text/html": [
       "<div>\n",
       "<style scoped>\n",
       "    .dataframe tbody tr th:only-of-type {\n",
       "        vertical-align: middle;\n",
       "    }\n",
       "\n",
       "    .dataframe tbody tr th {\n",
       "        vertical-align: top;\n",
       "    }\n",
       "\n",
       "    .dataframe thead th {\n",
       "        text-align: right;\n",
       "    }\n",
       "</style>\n",
       "<table border=\"1\" class=\"dataframe\">\n",
       "  <thead>\n",
       "    <tr style=\"text-align: right;\">\n",
       "      <th></th>\n",
       "      <th>Date</th>\n",
       "      <th>Temperature</th>\n",
       "      <th>Anomaly</th>\n",
       "    </tr>\n",
       "  </thead>\n",
       "  <tbody>\n",
       "    <tr>\n",
       "      <th>0</th>\n",
       "      <td>1895</td>\n",
       "      <td>34.2</td>\n",
       "      <td>-3.2</td>\n",
       "    </tr>\n",
       "    <tr>\n",
       "      <th>1</th>\n",
       "      <td>1896</td>\n",
       "      <td>34.7</td>\n",
       "      <td>-2.7</td>\n",
       "    </tr>\n",
       "    <tr>\n",
       "      <th>2</th>\n",
       "      <td>1897</td>\n",
       "      <td>35.5</td>\n",
       "      <td>-1.9</td>\n",
       "    </tr>\n",
       "  </tbody>\n",
       "</table>\n",
       "</div>"
      ],
      "text/plain": [
       "   Date  Temperature  Anomaly\n",
       "0  1895         34.2     -3.2\n",
       "1  1896         34.7     -2.7\n",
       "2  1897         35.5     -1.9"
      ]
     },
     "execution_count": 21,
     "metadata": {},
     "output_type": "execute_result"
    }
   ],
   "source": [
    "# View Updates\n",
    "\n",
    "nyc.head(3)"
   ]
  },
  {
   "cell_type": "markdown",
   "id": "089aba03-99dd-4ac4-abca-fa8845fb11ec",
   "metadata": {},
   "source": [
    "## Describe Data"
   ]
  },
  {
   "cell_type": "code",
   "execution_count": 24,
   "id": "8e072aa7-e09f-4588-8f69-c0023eab1eeb",
   "metadata": {},
   "outputs": [
    {
     "data": {
      "text/plain": [
       "count    124.00\n",
       "mean      37.60\n",
       "std        4.54\n",
       "min       26.10\n",
       "25%       34.58\n",
       "50%       37.60\n",
       "75%       40.60\n",
       "max       47.60\n",
       "Name: Temperature, dtype: float64"
      ]
     },
     "execution_count": 24,
     "metadata": {},
     "output_type": "execute_result"
    }
   ],
   "source": [
    "# Set precision and View statistics\n",
    "\n",
    "pd.set_option('display.precision', 2)\n",
    "\n",
    "nyc.Temperature.describe()"
   ]
  },
  {
   "cell_type": "markdown",
   "id": "429fe455-c1bd-4be9-8609-90be7fb54f42",
   "metadata": {},
   "source": [
    "The data seems to be normal. The standard deviation is low and when we look at the difference between the mean and the \n",
    "minimum/maximum, there is a relatively equal spread."
   ]
  },
  {
   "cell_type": "markdown",
   "id": "cc822d28-a91e-47c3-a7fe-5b81bc984517",
   "metadata": {},
   "source": [
    "## Forecasting Futrue January Average High Temperatures"
   ]
  },
  {
   "cell_type": "code",
   "execution_count": 25,
   "id": "27a33019-1da2-4248-a4c2-63431535080d",
   "metadata": {},
   "outputs": [],
   "source": [
    "# Import SciPy\n",
    "\n",
    "from scipy import stats"
   ]
  },
  {
   "cell_type": "code",
   "execution_count": 26,
   "id": "b7750254-7dff-4550-8a20-2d2bfba926ba",
   "metadata": {},
   "outputs": [],
   "source": [
    "# Linear Regression\n",
    "\n",
    "linear_regression = stats.linregress(x=nyc.Date,\n",
    "                                     y=nyc.Temperature)"
   ]
  },
  {
   "cell_type": "code",
   "execution_count": 27,
   "id": "9196fab7-6bd4-408a-b705-ae03675d4091",
   "metadata": {},
   "outputs": [
    {
     "data": {
      "text/plain": [
       "0.014771361132966163"
      ]
     },
     "execution_count": 27,
     "metadata": {},
     "output_type": "execute_result"
    }
   ],
   "source": [
    "# Find Slope\n",
    "\n",
    "linear_regression.slope"
   ]
  },
  {
   "cell_type": "code",
   "execution_count": 28,
   "id": "06dcfd91-d697-4643-95ec-dbbf2add34c5",
   "metadata": {},
   "outputs": [
    {
     "data": {
      "text/plain": [
       "8.694993233674289"
      ]
     },
     "execution_count": 28,
     "metadata": {},
     "output_type": "execute_result"
    }
   ],
   "source": [
    "# Find Intercept\n",
    "\n",
    "linear_regression.intercept"
   ]
  },
  {
   "cell_type": "markdown",
   "id": "fbbd048b-77aa-404b-aeaf-c8fa1829fb5e",
   "metadata": {},
   "source": [
    "## Predictions"
   ]
  },
  {
   "cell_type": "code",
   "execution_count": 29,
   "id": "38e41e25-a1ca-4fcd-82d6-c2ddb534adeb",
   "metadata": {},
   "outputs": [
    {
     "data": {
      "text/plain": [
       "38.51837136113297"
      ]
     },
     "execution_count": 29,
     "metadata": {},
     "output_type": "execute_result"
    }
   ],
   "source": [
    "# Predict average Fahrenheit for January of 2019\n",
    "\n",
    "linear_regression.slope * 2019 + linear_regression.intercept"
   ]
  },
  {
   "cell_type": "code",
   "execution_count": 30,
   "id": "44384a89-391f-4501-90b7-7152bc5e8e86",
   "metadata": {},
   "outputs": [
    {
     "data": {
      "text/plain": [
       "36.612865774980335"
      ]
     },
     "execution_count": 30,
     "metadata": {},
     "output_type": "execute_result"
    }
   ],
   "source": [
    "# Approximate Average Temperature for 1890\n",
    "\n",
    "linear_regression.slope * 1890 + linear_regression.intercept"
   ]
  },
  {
   "cell_type": "code",
   "execution_count": 37,
   "id": "44e12f4f-7355-41f6-bfbe-091f5feba837",
   "metadata": {},
   "outputs": [
    {
     "data": {
      "text/plain": [
       "38.62177088906374"
      ]
     },
     "execution_count": 37,
     "metadata": {},
     "output_type": "execute_result"
    }
   ],
   "source": [
    "# Estimate for 2026\n",
    "\n",
    "linear_regression.slope * 2026 + linear_regression.intercept"
   ]
  },
  {
   "cell_type": "markdown",
   "id": "b450accd-cb21-460d-9148-57cb833666d9",
   "metadata": {},
   "source": [
    "## Plotting Average High Temperatures and a Regression Line"
   ]
  },
  {
   "cell_type": "code",
   "execution_count": 33,
   "id": "b10f4413-4a95-4662-82c6-174a4cabfca5",
   "metadata": {},
   "outputs": [],
   "source": [
    "# Import Seaborn\n",
    "\n",
    "import seaborn as sns"
   ]
  },
  {
   "cell_type": "code",
   "execution_count": 36,
   "id": "23830eb8-f249-4006-b664-17c1e0acac24",
   "metadata": {},
   "outputs": [
    {
     "data": {
      "text/plain": [
       "(10.0, 70.0)"
      ]
     },
     "execution_count": 36,
     "metadata": {},
     "output_type": "execute_result"
    },
    {
     "data": {
      "image/png": "[encoded data removed]",
      "text/plain": [
       "<Figure size 640x480 with 1 Axes>"
      ]
     },
     "metadata": {},
     "output_type": "display_data"
    }
   ],
   "source": [
    "# Scatter Plot with Best Fit Line\n",
    "\n",
    "sns.set_style('whitegrid')\n",
    "\n",
    "axes = sns.regplot(x=nyc.Date, y=nyc.Temperature)\n",
    "\n",
    "# Slim the range\n",
    "\n",
    "axes.set_ylim(10, 70)"
   ]
  },
  {
   "cell_type": "markdown",
   "id": "d8f8d023-baa7-4a88-a571-b77675ab3182",
   "metadata": {},
   "source": [
    "## Time Series and Simple Linear Regression with scikit-learn estimator"
   ]
  },
  {
   "cell_type": "code",
   "execution_count": 63,
   "id": "753e7fde-4bfd-49eb-aa2a-14267d2c4543",
   "metadata": {},
   "outputs": [],
   "source": [
    "# Load Average High Temperatures into a DataFrame\n",
    "\n",
    "import pandas as pd"
   ]
  },
  {
   "cell_type": "code",
   "execution_count": 64,
   "id": "a209f593-013b-4a01-ad15-4e97d6e0f4b1",
   "metadata": {},
   "outputs": [],
   "source": [
    "# Load Data\n",
    "\n",
    "nyc = pd.read_csv('ave_hi_nyc_jan_1895-2018.csv')"
   ]
  },
  {
   "cell_type": "code",
   "execution_count": 65,
   "id": "c911c44f-76a8-4eee-a2fe-7a63db82df4e",
   "metadata": {},
   "outputs": [],
   "source": [
    "# Rename Columns\n",
    "\n",
    "nyc.columns = ['Date', 'Temperature', 'Anomaly']"
   ]
  },
  {
   "cell_type": "code",
   "execution_count": 66,
   "id": "62ddbf74-dbd6-4d5f-ad07-e9adbd314aca",
   "metadata": {},
   "outputs": [],
   "source": [
    "# Use Floordiv to clean data\n",
    "\n",
    "nyc.Date = nyc.Date.floordiv(100)"
   ]
  },
  {
   "cell_type": "code",
   "execution_count": 67,
   "id": "9247ab29-be4a-47fe-9585-e1a4fb5bd8f3",
   "metadata": {},
   "outputs": [
    {
     "data": {
      "text/html": [
       "<div>\n",
       "<style scoped>\n",
       "    .dataframe tbody tr th:only-of-type {\n",
       "        vertical-align: middle;\n",
       "    }\n",
       "\n",
       "    .dataframe tbody tr th {\n",
       "        vertical-align: top;\n",
       "    }\n",
       "\n",
       "    .dataframe thead th {\n",
       "        text-align: right;\n",
       "    }\n",
       "</style>\n",
       "<table border=\"1\" class=\"dataframe\">\n",
       "  <thead>\n",
       "    <tr style=\"text-align: right;\">\n",
       "      <th></th>\n",
       "      <th>Date</th>\n",
       "      <th>Temperature</th>\n",
       "      <th>Anomaly</th>\n",
       "    </tr>\n",
       "  </thead>\n",
       "  <tbody>\n",
       "    <tr>\n",
       "      <th>0</th>\n",
       "      <td>1895</td>\n",
       "      <td>34.2</td>\n",
       "      <td>-3.2</td>\n",
       "    </tr>\n",
       "    <tr>\n",
       "      <th>1</th>\n",
       "      <td>1896</td>\n",
       "      <td>34.7</td>\n",
       "      <td>-2.7</td>\n",
       "    </tr>\n",
       "    <tr>\n",
       "      <th>2</th>\n",
       "      <td>1897</td>\n",
       "      <td>35.5</td>\n",
       "      <td>-1.9</td>\n",
       "    </tr>\n",
       "  </tbody>\n",
       "</table>\n",
       "</div>"
      ],
      "text/plain": [
       "   Date  Temperature  Anomaly\n",
       "0  1895         34.2     -3.2\n",
       "1  1896         34.7     -2.7\n",
       "2  1897         35.5     -1.9"
      ]
     },
     "execution_count": 67,
     "metadata": {},
     "output_type": "execute_result"
    }
   ],
   "source": [
    "# Display Head\n",
    "\n",
    "nyc.head(3)"
   ]
  },
  {
   "cell_type": "markdown",
   "id": "00cc92aa-a1b1-4671-a951-855041034883",
   "metadata": {},
   "source": [
    "## Splitting the Data for Training and Testing"
   ]
  },
  {
   "cell_type": "code",
   "execution_count": 68,
   "id": "9638abaa-a119-437f-9da5-c084af46cf4a",
   "metadata": {},
   "outputs": [],
   "source": [
    "# Import sklearn\n",
    "\n",
    "from sklearn.model_selection import train_test_split"
   ]
  },
  {
   "cell_type": "code",
   "execution_count": 69,
   "id": "689515fe-2023-485f-96ff-34cabe566ca6",
   "metadata": {},
   "outputs": [],
   "source": [
    "# Build 2D array\n",
    "\n",
    "X_train, X_test, y_train, y_test = train_test_split(nyc.Date.values.reshape(-1, 1), nyc.Temperature.values, random_state=11)"
   ]
  },
  {
   "cell_type": "code",
   "execution_count": 70,
   "id": "3265f2e8-8a48-4e76-a3e8-d28441c74b5f",
   "metadata": {},
   "outputs": [
    {
     "data": {
      "text/plain": [
       "(93, 1)"
      ]
     },
     "execution_count": 70,
     "metadata": {},
     "output_type": "execute_result"
    }
   ],
   "source": [
    "# Check X Shape\n",
    "\n",
    "X_train.shape"
   ]
  },
  {
   "cell_type": "code",
   "execution_count": 71,
   "id": "217249c0-b691-4ff3-a2a7-d1c20740f2bc",
   "metadata": {},
   "outputs": [
    {
     "data": {
      "text/plain": [
       "(31, 1)"
      ]
     },
     "execution_count": 71,
     "metadata": {},
     "output_type": "execute_result"
    }
   ],
   "source": [
    "# X Test\n",
    "\n",
    "X_test.shape"
   ]
  },
  {
   "cell_type": "markdown",
   "id": "114966f3-0f08-443d-bf23-de218e84e043",
   "metadata": {},
   "source": [
    "## Train the Model"
   ]
  },
  {
   "cell_type": "code",
   "execution_count": 72,
   "id": "75b26245-1679-49de-ae17-2f7026b8bdde",
   "metadata": {},
   "outputs": [],
   "source": [
    "# Call Linear Regression\n",
    "\n",
    "from sklearn.linear_model import LinearRegression"
   ]
  },
  {
   "cell_type": "code",
   "execution_count": 73,
   "id": "02a2ac06-4e73-48f6-8c4a-b4d39cd0bbe8",
   "metadata": {},
   "outputs": [],
   "source": [
    "# Create Function\n",
    "\n",
    "linear_regression = LinearRegression()"
   ]
  },
  {
   "cell_type": "code",
   "execution_count": 74,
   "id": "c34f1c09-0551-4b1e-9f62-6a50284a08ca",
   "metadata": {},
   "outputs": [
    {
     "data": {
      "text/plain": [
       "LinearRegression()"
      ]
     },
     "execution_count": 74,
     "metadata": {},
     "output_type": "execute_result"
    }
   ],
   "source": [
    "# Fit Model\n",
    "\n",
    "linear_regression.fit(X=X_train, y=y_train)"
   ]
  },
  {
   "cell_type": "code",
   "execution_count": 75,
   "id": "14d177df-b7a5-49a6-a4a9-456e16460015",
   "metadata": {},
   "outputs": [
    {
     "data": {
      "text/plain": [
       "array([0.01939167])"
      ]
     },
     "execution_count": 75,
     "metadata": {},
     "output_type": "execute_result"
    }
   ],
   "source": [
    "# Get Slope\n",
    "\n",
    "linear_regression.coef_"
   ]
  },
  {
   "cell_type": "code",
   "execution_count": 76,
   "id": "59cc4db6-dafe-438e-b373-9cc44a262d07",
   "metadata": {},
   "outputs": [
    {
     "data": {
      "text/plain": [
       "-0.30779820252657686"
      ]
     },
     "execution_count": 76,
     "metadata": {},
     "output_type": "execute_result"
    }
   ],
   "source": [
    "# Get Intercept\n",
    "\n",
    "linear_regression.intercept_"
   ]
  },
  {
   "cell_type": "markdown",
   "id": "0878fe67-f97d-4a56-a252-89090729d16d",
   "metadata": {},
   "source": [
    "## Test The Model"
   ]
  },
  {
   "cell_type": "code",
   "execution_count": 77,
   "id": "9d1a8537-39af-4f7f-95d5-f8af3e19004f",
   "metadata": {},
   "outputs": [],
   "source": [
    "# Predicted Values\n",
    "\n",
    "predicted = linear_regression.predict(X_test)"
   ]
  },
  {
   "cell_type": "code",
   "execution_count": 78,
   "id": "d98ebce4-068b-46c4-96ac-3f82a35215d7",
   "metadata": {},
   "outputs": [],
   "source": [
    "# Utilize Y for expected values\n",
    "\n",
    "expected = y_test"
   ]
  },
  {
   "cell_type": "code",
   "execution_count": 79,
   "id": "600f69d0-702e-4658-ac24-6591b9600a68",
   "metadata": {},
   "outputs": [
    {
     "name": "stdout",
     "output_type": "stream",
     "text": [
      "predicted: 37.86, expected: 31.70\n",
      "predicted: 38.69, expected: 34.80\n",
      "predicted: 37.00, expected: 39.40\n",
      "predicted: 37.25, expected: 45.70\n",
      "predicted: 38.05, expected: 32.30\n",
      "predicted: 37.64, expected: 33.80\n",
      "predicted: 36.94, expected: 39.70\n"
     ]
    }
   ],
   "source": [
    "# Show the predicted and expected values\n",
    "\n",
    "for p, e in zip(predicted[::5], expected [::5]):\n",
    "    print(f'predicted: {p:.2f}, expected: {e:.2f}')"
   ]
  },
  {
   "cell_type": "markdown",
   "id": "6b6e43b3-6e3e-4074-b857-e8f248bb30fa",
   "metadata": {},
   "source": [
    "## Predicting New Values"
   ]
  },
  {
   "cell_type": "code",
   "execution_count": 80,
   "id": "a5b01275-da4c-4111-9883-9461896f7ff0",
   "metadata": {},
   "outputs": [],
   "source": [
    "# Utilize y=mx+b. coef_ will be the m and b will be the intercept"
   ]
  },
  {
   "cell_type": "code",
   "execution_count": 83,
   "id": "6411747b-54ab-4731-8d78-e86250f74b91",
   "metadata": {},
   "outputs": [],
   "source": [
    "# Predict Function\n",
    "\n",
    "predict = (lambda x: linear_regression.coef_*x+\n",
    "           linear_regression.intercept_)"
   ]
  },
  {
   "cell_type": "code",
   "execution_count": 84,
   "id": "1f7b6bad-81bb-4f35-aa02-ec166dfe39f6",
   "metadata": {},
   "outputs": [
    {
     "data": {
      "text/plain": [
       "array([38.84399018])"
      ]
     },
     "execution_count": 84,
     "metadata": {},
     "output_type": "execute_result"
    }
   ],
   "source": [
    "# Predict 2019\n",
    "\n",
    "predict(2019)"
   ]
  },
  {
   "cell_type": "code",
   "execution_count": 85,
   "id": "1d247753-254b-48aa-8750-bee8d23a49d3",
   "metadata": {},
   "outputs": [
    {
     "data": {
      "text/plain": [
       "array([36.34246432])"
      ]
     },
     "execution_count": 85,
     "metadata": {},
     "output_type": "execute_result"
    }
   ],
   "source": [
    "# Predict 1890\n",
    "\n",
    "predict(1890)"
   ]
  },
  {
   "cell_type": "markdown",
   "id": "a104ec71-1458-46a1-9f9a-1b4b02807746",
   "metadata": {},
   "source": [
    "## Visualize Dataset with the Regression Line"
   ]
  },
  {
   "cell_type": "code",
   "execution_count": 86,
   "id": "efef9118-9b37-4f40-9d00-346522f8bd4a",
   "metadata": {},
   "outputs": [],
   "source": [
    "# Import Seaborn\n",
    "\n",
    "import seaborn as sns"
   ]
  },
  {
   "cell_type": "code",
   "execution_count": 89,
   "id": "a2ccfffa-6d45-42c9-b874-57198b738250",
   "metadata": {},
   "outputs": [
    {
     "data": {
      "image/png": "[encoded data removed]",
      "text/plain": [
       "<Figure size 640x480 with 1 Axes>"
      ]
     },
     "metadata": {},
     "output_type": "display_data"
    }
   ],
   "source": [
    "# Build Chart\n",
    "\n",
    "axes = sns.scatterplot(data = nyc, x = 'Date', y = 'Temperature', hue = 'Temperature', palette = 'winter', legend = False)"
   ]
  },
  {
   "cell_type": "code",
   "execution_count": 90,
   "id": "183772a8-0180-4e64-86fd-1ecf8abf8186",
   "metadata": {},
   "outputs": [
    {
     "data": {
      "text/plain": [
       "(10.0, 70.0)"
      ]
     },
     "execution_count": 90,
     "metadata": {},
     "output_type": "execute_result"
    }
   ],
   "source": [
    "# Trim the Axes\n",
    "\n",
    "axes.set_ylim(10, 70)"
   ]
  },
  {
   "cell_type": "code",
   "execution_count": 91,
   "id": "b1d4afc5-17ce-40aa-adfc-fcc6e7fa1b8a",
   "metadata": {},
   "outputs": [],
   "source": [
    "# Import Numpy\n",
    "\n",
    "import numpy as np\n",
    "\n",
    "# Build Array\n",
    "\n",
    "x = np.array([min(nyc.Date.values), max(nyc.Date.values)])"
   ]
  },
  {
   "cell_type": "code",
   "execution_count": 92,
   "id": "5af5887c-06bb-4ea9-bedc-b81517f50544",
   "metadata": {},
   "outputs": [],
   "source": [
    "# Predict Values for Array\n",
    "\n",
    "y = predict(x)"
   ]
  },
  {
   "cell_type": "code",
   "execution_count": 93,
   "id": "7bd36ef4-0338-43a8-853e-d1ccb557fc03",
   "metadata": {},
   "outputs": [],
   "source": [
    "# Import matplotlib\n",
    "\n",
    "import matplotlib.pyplot as plt"
   ]
  },
  {
   "cell_type": "code",
   "execution_count": 95,
   "id": "fab31f09-62e5-420e-a87c-9801a3e535c5",
   "metadata": {},
   "outputs": [
    {
     "data": {
      "image/png": "[encoded data removed]",
      "text/plain": [
       "<Figure size 640x480 with 1 Axes>"
      ]
     },
     "metadata": {},
     "output_type": "display_data"
    }
   ],
   "source": [
    "# Draw the Line\n",
    "\n",
    "line = plt.plot(x, y)"
   ]
  },
  {
   "cell_type": "code",
   "execution_count": 97,
   "id": "b7d4d35b-fd84-41a9-8abf-e24e6370c15e",
   "metadata": {},
   "outputs": [
    {
     "data": {
      "image/png": "[encoded data removed]",
      "text/plain": [
       "<Figure size 640x480 with 1 Axes>"
      ]
     },
     "metadata": {},
     "output_type": "display_data"
    }
   ],
   "source": [
    "# Visualize Together\n",
    "\n",
    "axes = sns.scatterplot(data = nyc, x = 'Date', y = 'Temperature', hue = 'Temperature', palette = 'winter', legend = False)\n",
    "axes.set_ylim(10, 70)\n",
    "x = np.array([min(nyc.Date.values), max(nyc.Date.values)])\n",
    "y = predict(x)\n",
    "line = plt.plot(x, y)"
   ]
  },
  {
   "cell_type": "markdown",
   "id": "6f6f9a81-da30-4378-9d2a-3a284de4211a",
   "metadata": {},
   "source": [
    "## Comparing Methods"
   ]
  },
  {
   "cell_type": "markdown",
   "id": "3893dcb4-f1f3-4fba-88c3-2d32e750bbd2",
   "metadata": {},
   "source": [
    "The first thing that stood out to me was the uses of both tools. Both tools have their time and place. Sklean seems to be more of an asset\n",
    "when we consider predictions whereas the simple linear regression seems to be better suited for exploring your analysis. The simple linear regression was based of the slope intercept formula and you inputting the information to make the prediction work. While this does not pose much of a threat, it can lead to more human error. When using sklearn you have the simple predict() function to take away some of the error. I noticed that in the first method, we were able to see more statistics with our information which I liked as we can assume an accuracy level with our data and give us more to analyze. Sklearn is setup to allow for multiple linear regression which again speaks to its value as a prediciton tool. \n",
    "\n",
    "Overall, I would say that if I need to predict information, I would rather use sklearn. I feel that it is setup to allow for an easier time predicting and would require less input. When analyzing data, and when only needing simple linear regression, I feel that move is best. It proivdes the deeper statistical information to make a better analysis. "
   ]
  },
  {
   "cell_type": "code",
   "execution_count": null,
   "id": "20557f4d-70f5-40c9-bfae-5f0a42a61740",
   "metadata": {},
   "outputs": [],
   "source": []
  }
 ],
 "metadata": {
  "kernelspec": {
   "display_name": "Python 3 (ipykernel)",
   "language": "python",
   "name": "python3"
  },
  "language_info": {
   "codemirror_mode": {
    "name": "ipython",
    "version": 3
   },
   "file_extension": ".py",
   "mimetype": "text/x-python",
   "name": "python",
   "nbconvert_exporter": "python",
   "pygments_lexer": "ipython3",
   "version": "3.9.15"
  }
 },
 "nbformat": 4,
 "nbformat_minor": 5
}
